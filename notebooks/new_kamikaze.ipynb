{
 "cells": [
  {
   "cell_type": "code",
   "execution_count": 2,
   "metadata": {},
   "outputs": [],
   "source": [
    "from urllib.request import Request, urlopen\n",
    "import json\n",
    "import pandas as pd\n",
    "import itertools\n",
    "from pandas.io.json import json_normalize\n",
    "from pyspark.sql import SparkSession\n",
    "from pyspark.context import SparkContext\n",
    "import dateutil.parser"
   ]
  },
  {
   "cell_type": "markdown",
   "metadata": {},
   "source": [
    "# Data Preparation"
   ]
  },
  {
   "cell_type": "code",
   "execution_count": 2,
   "metadata": {},
   "outputs": [],
   "source": [
    "TOKEN = 'Bearer 0/2e807d8f4b098b3f1e1d6bd84a5cf1eb'\n",
    "POOL = '680563298779433'"
   ]
  },
  {
   "cell_type": "code",
   "execution_count": 3,
   "metadata": {},
   "outputs": [],
   "source": [
    "def request_json(url):\n",
    "    request = Request(url)\n",
    "    request.add_header('Content-Type', 'application/json')\n",
    "    request.add_header('Authorization', TOKEN)\n",
    "\n",
    "    data = json.loads(urlopen(request).read().decode('utf-8'))\n",
    "    return data"
   ]
  },
  {
   "cell_type": "code",
   "execution_count": 12,
   "metadata": {},
   "outputs": [],
   "source": [
    "data = request_json('https://app.asana.com/api/1.0/projects/{}/tasks?opt_fields=assignee,completed,completed_at,created_at,custom_fields,id,memberships,name,notes,parent,projects,subtasks,tags'.format(POOL))"
   ]
  },
  {
   "cell_type": "code",
   "execution_count": 13,
   "metadata": {},
   "outputs": [],
   "source": [
    "data_file = open('./data.json', 'w+')\n",
    "\n",
    "for item in data['data']:\n",
    "    data_file.write(json.dumps(item) + '\\n')"
   ]
  },
  {
   "cell_type": "code",
   "execution_count": 33,
   "metadata": {},
   "outputs": [
    {
     "data": {
      "text/plain": [
       "[]"
      ]
     },
     "execution_count": 33,
     "metadata": {},
     "output_type": "execute_result"
    }
   ],
   "source": [
    "data_file.readlines()"
   ]
  },
  {
   "cell_type": "code",
   "execution_count": 5,
   "metadata": {},
   "outputs": [],
   "source": [
    "spark = SparkSession.builder.appName(\"Integration pool spec\").getOrCreate()"
   ]
  },
  {
   "cell_type": "code",
   "execution_count": 6,
   "metadata": {},
   "outputs": [],
   "source": [
    "sc = SparkContext.getOrCreate()"
   ]
  },
  {
   "cell_type": "code",
   "execution_count": 7,
   "metadata": {},
   "outputs": [
    {
     "data": {
      "text/plain": [
       "['assignee',\n",
       " 'completed',\n",
       " 'completed_at',\n",
       " 'created_at',\n",
       " 'custom_fields',\n",
       " 'gid',\n",
       " 'id',\n",
       " 'name',\n",
       " 'notes',\n",
       " 'parent',\n",
       " 'projects',\n",
       " 'subtasks',\n",
       " 'tags']"
      ]
     },
     "execution_count": 7,
     "metadata": {},
     "output_type": "execute_result"
    }
   ],
   "source": [
    "df = spark.read.json('./data.json')\n",
    "df.columns"
   ]
  },
  {
   "cell_type": "code",
   "execution_count": 8,
   "metadata": {},
   "outputs": [
    {
     "name": "stdout",
     "output_type": "stream",
     "text": [
      "+--------------------+---------+--------------------+--------------------+--------------------+---------------+---------------+--------------------+--------------------+--------------------+--------------------+--------------------+--------------------+\n",
      "|            assignee|completed|        completed_at|          created_at|       custom_fields|            gid|             id|                name|               notes|              parent|            projects|            subtasks|                tags|\n",
      "+--------------------+---------+--------------------+--------------------+--------------------+---------------+---------------+--------------------+--------------------+--------------------+--------------------+--------------------+--------------------+\n",
      "|[771731756164271,...|     true|2019-01-02T11:54:...|2018-12-11T23:21:...|[[true,,, 2076489...|943584336303015|943584336303015|[thenorthface][DE...|Atenção: Por gent...|[943562935937591,...|[[680563298779433...|[[943583524227994...|[[12563780798218,...|\n",
      "+--------------------+---------+--------------------+--------------------+--------------------+---------------+---------------+--------------------+--------------------+--------------------+--------------------+--------------------+--------------------+\n",
      "only showing top 1 row\n",
      "\n"
     ]
    }
   ],
   "source": [
    "get_timestamp = lambda date: dateutil.parser.parse(date).timestamp()\n",
    "df.filter(df.completed_at > '2019-01-01T00:00:01.112Z').show(1)"
   ]
  },
  {
   "cell_type": "code",
   "execution_count": 26,
   "metadata": {},
   "outputs": [
    {
     "data": {
      "text/plain": [
       "DataFrame[assignee: struct<gid:string,id:bigint,resource_type:string>, completed: boolean, completed_at: string, created_at: string, custom_fields: array<struct<enabled:boolean,enum_options:array<struct<color:string,enabled:boolean,gid:string,id:bigint,name:string,resource_type:string>>,enum_value:struct<color:string,enabled:boolean,gid:string,id:bigint,name:string,resource_type:string>,gid:string,id:bigint,name:string,number_value:double,precision:bigint,resource_subtype:string,resource_type:string,text_value:string,type:string>>, gid: string, id: bigint, name: string, notes: string, parent: struct<gid:string,id:bigint,resource_type:string>, projects: array<struct<gid:string,id:bigint,resource_type:string>>, subtasks: array<struct<gid:string,id:bigint,resource_type:string>>, tags: array<struct<gid:string,id:bigint,resource_type:string>>]"
      ]
     },
     "execution_count": 26,
     "metadata": {},
     "output_type": "execute_result"
    }
   ],
   "source": [
    "df.filter(df.completed == True)"
   ]
  },
  {
   "cell_type": "code",
   "execution_count": null,
   "metadata": {},
   "outputs": [],
   "source": []
  }
 ],
 "metadata": {
  "kernelspec": {
   "display_name": "Python 3",
   "language": "python",
   "name": "python3"
  },
  "language_info": {
   "codemirror_mode": {
    "name": "ipython",
    "version": 3
   },
   "file_extension": ".py",
   "mimetype": "text/x-python",
   "name": "python",
   "nbconvert_exporter": "python",
   "pygments_lexer": "ipython3",
   "version": "3.6.7"
  }
 },
 "nbformat": 4,
 "nbformat_minor": 2
}
