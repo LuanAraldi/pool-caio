{
 "cells": [
  {
   "cell_type": "code",
   "execution_count": 1,
   "metadata": {},
   "outputs": [],
   "source": [
    "from urllib.request import Request, urlopen\n",
    "import json\n",
    "import pandas as pd\n",
    "import itertools\n",
    "from pandas.io.json import json_normalize"
   ]
  },
  {
   "cell_type": "markdown",
   "metadata": {},
   "source": [
    "# Data Preparation"
   ]
  },
  {
   "cell_type": "code",
   "execution_count": 2,
   "metadata": {},
   "outputs": [],
   "source": [
    "TOKEN = 'Bearer 0/2e807d8f4b098b3f1e1d6bd84a5cf1eb'\n",
    "POOL = '680563298779433'"
   ]
  },
  {
   "cell_type": "code",
   "execution_count": 3,
   "metadata": {},
   "outputs": [],
   "source": [
    "def request_json(url):\n",
    "    request = Request(url)\n",
    "    request.add_header('Content-Type', 'application/json')\n",
    "    request.add_header('Authorization', TOKEN)\n",
    "\n",
    "    data = json.loads(urlopen(request).read().decode('utf-8'))\n",
    "    return data"
   ]
  },
  {
   "cell_type": "code",
   "execution_count": 4,
   "metadata": {},
   "outputs": [],
   "source": [
    "data = request_json('https://app.asana.com/api/1.0/projects/{}/tasks?opt_fields=assignee,completed,completed_at,created_at,custom_fields,id,memberships,name,notes,parent,projects,subtasks,tags'.format(POOL))"
   ]
  },
  {
   "cell_type": "code",
   "execution_count": 82,
   "metadata": {},
   "outputs": [],
   "source": [
    "full_data_df = json_normalize(data=data.get('data'), sep='_')"
   ]
  },
  {
   "cell_type": "code",
   "execution_count": 83,
   "metadata": {},
   "outputs": [],
   "source": [
    "full_data_df.custom_fields.fillna(value=json.dumps({}), inplace=True)\n",
    "full_data_df = json_normalize(data=data.get('data'), \n",
    "                              record_path=['custom_fields'], \n",
    "                              sep='_', \n",
    "                              meta=list(full_data_df.keys()), \n",
    "                              meta_prefix='',\n",
    "                              record_prefix='custom_field_',\n",
    "                              errors='ignore')"
   ]
  },
  {
   "cell_type": "code",
   "execution_count": 84,
   "metadata": {},
   "outputs": [],
   "source": [
    "full_data_df.projects.fillna(value=json.dumps({}), inplace=True)\n",
    "full_data_df = json_normalize(data=json.loads(full_data_df.to_json(orient='records')),\n",
    "                              record_path=['projects'],\n",
    "                              sep='_', \n",
    "                              meta=list(full_data_df.keys()), \n",
    "                              meta_prefix='',\n",
    "                              record_prefix='project_',\n",
    "                              errors='ignore')"
   ]
  },
  {
   "cell_type": "code",
   "execution_count": 85,
   "metadata": {},
   "outputs": [],
   "source": [
    "full_data_df.parent.fillna(value=json.dumps({}), inplace=True)\n",
    "full_data_df = json_normalize(data=json.loads(full_data_df.to_json(orient='records')),\n",
    "                              record_path=['parent'],\n",
    "                              sep='_', \n",
    "                              meta=list(full_data_df.keys()), \n",
    "                              meta_prefix='',\n",
    "                              record_prefix='parent_',\n",
    "                              errors='ignore')"
   ]
  },
  {
   "cell_type": "code",
   "execution_count": 86,
   "metadata": {},
   "outputs": [],
   "source": [
    "full_data_df.memberships.fillna(value=json.dumps({}), inplace=True)\n",
    "full_data_df = json_normalize(data=json.loads(full_data_df.to_json(orient='records')),\n",
    "                              record_path=['memberships'],\n",
    "                              sep='_', \n",
    "                              meta=list(full_data_df.keys()), \n",
    "                              meta_prefix='',\n",
    "                              record_prefix='membership_',\n",
    "                              errors='ignore')"
   ]
  },
  {
   "cell_type": "code",
   "execution_count": 88,
   "metadata": {},
   "outputs": [],
   "source": [
    "full_data_df.tags.fillna(value=json.dumps({}), inplace=True)\n",
    "full_data_df = json_normalize(data=json.loads(full_data_df.to_json(orient='records')),\n",
    "                              record_path=['tags'],\n",
    "                              sep='_', \n",
    "                              meta=list(full_data_df.keys()), \n",
    "                              meta_prefix='',\n",
    "                              record_prefix='tag_',\n",
    "                              errors='ignore')"
   ]
  },
  {
   "cell_type": "code",
   "execution_count": 27,
   "metadata": {},
   "outputs": [
    {
     "ename": "TypeError",
     "evalue": "object of type 'NoneType' has no len()",
     "output_type": "error",
     "traceback": [
      "\u001b[0;31m---------------------------------------------------------------------------\u001b[0m",
      "\u001b[0;31mTypeError\u001b[0m                                 Traceback (most recent call last)",
      "\u001b[0;32m<ipython-input-27-3c01cfe9c311>\u001b[0m in \u001b[0;36m<module>\u001b[0;34m()\u001b[0m\n\u001b[1;32m      4\u001b[0m                               \u001b[0mmeta\u001b[0m\u001b[0;34m=\u001b[0m\u001b[0mlist\u001b[0m\u001b[0;34m(\u001b[0m\u001b[0mfull_data_df\u001b[0m\u001b[0;34m.\u001b[0m\u001b[0mkeys\u001b[0m\u001b[0;34m(\u001b[0m\u001b[0;34m)\u001b[0m\u001b[0;34m)\u001b[0m\u001b[0;34m,\u001b[0m\u001b[0;34m\u001b[0m\u001b[0m\n\u001b[1;32m      5\u001b[0m                               \u001b[0mmeta_prefix\u001b[0m\u001b[0;34m=\u001b[0m\u001b[0;34m''\u001b[0m\u001b[0;34m,\u001b[0m\u001b[0;34m\u001b[0m\u001b[0m\n\u001b[0;32m----> 6\u001b[0;31m                               record_prefix='assignee_')\n\u001b[0m",
      "\u001b[0;32m/usr/local/lib/python3.5/dist-packages/pandas/io/json/normalize.py\u001b[0m in \u001b[0;36mjson_normalize\u001b[0;34m(data, record_path, meta, meta_prefix, record_prefix, errors, sep)\u001b[0m\n\u001b[1;32m    260\u001b[0m                 \u001b[0mrecords\u001b[0m\u001b[0;34m.\u001b[0m\u001b[0mextend\u001b[0m\u001b[0;34m(\u001b[0m\u001b[0mrecs\u001b[0m\u001b[0;34m)\u001b[0m\u001b[0;34m\u001b[0m\u001b[0m\n\u001b[1;32m    261\u001b[0m \u001b[0;34m\u001b[0m\u001b[0m\n\u001b[0;32m--> 262\u001b[0;31m     \u001b[0m_recursive_extract\u001b[0m\u001b[0;34m(\u001b[0m\u001b[0mdata\u001b[0m\u001b[0;34m,\u001b[0m \u001b[0mrecord_path\u001b[0m\u001b[0;34m,\u001b[0m \u001b[0;34m{\u001b[0m\u001b[0;34m}\u001b[0m\u001b[0;34m,\u001b[0m \u001b[0mlevel\u001b[0m\u001b[0;34m=\u001b[0m\u001b[0;36m0\u001b[0m\u001b[0;34m)\u001b[0m\u001b[0;34m\u001b[0m\u001b[0m\n\u001b[0m\u001b[1;32m    263\u001b[0m \u001b[0;34m\u001b[0m\u001b[0m\n\u001b[1;32m    264\u001b[0m     \u001b[0mresult\u001b[0m \u001b[0;34m=\u001b[0m \u001b[0mDataFrame\u001b[0m\u001b[0;34m(\u001b[0m\u001b[0mrecords\u001b[0m\u001b[0;34m)\u001b[0m\u001b[0;34m\u001b[0m\u001b[0m\n",
      "\u001b[0;32m/usr/local/lib/python3.5/dist-packages/pandas/io/json/normalize.py\u001b[0m in \u001b[0;36m_recursive_extract\u001b[0;34m(data, path, seen_meta, level)\u001b[0m\n\u001b[1;32m    239\u001b[0m \u001b[0;34m\u001b[0m\u001b[0m\n\u001b[1;32m    240\u001b[0m                 \u001b[0;31m# For repeating the metadata later\u001b[0m\u001b[0;34m\u001b[0m\u001b[0;34m\u001b[0m\u001b[0m\n\u001b[0;32m--> 241\u001b[0;31m                 \u001b[0mlengths\u001b[0m\u001b[0;34m.\u001b[0m\u001b[0mappend\u001b[0m\u001b[0;34m(\u001b[0m\u001b[0mlen\u001b[0m\u001b[0;34m(\u001b[0m\u001b[0mrecs\u001b[0m\u001b[0;34m)\u001b[0m\u001b[0;34m)\u001b[0m\u001b[0;34m\u001b[0m\u001b[0m\n\u001b[0m\u001b[1;32m    242\u001b[0m \u001b[0;34m\u001b[0m\u001b[0m\n\u001b[1;32m    243\u001b[0m                 \u001b[0;32mfor\u001b[0m \u001b[0mval\u001b[0m\u001b[0;34m,\u001b[0m \u001b[0mkey\u001b[0m \u001b[0;32min\u001b[0m \u001b[0mzip\u001b[0m\u001b[0;34m(\u001b[0m\u001b[0mmeta\u001b[0m\u001b[0;34m,\u001b[0m \u001b[0mmeta_keys\u001b[0m\u001b[0;34m)\u001b[0m\u001b[0;34m:\u001b[0m\u001b[0;34m\u001b[0m\u001b[0m\n",
      "\u001b[0;31mTypeError\u001b[0m: object of type 'NoneType' has no len()"
     ]
    }
   ],
   "source": [
    "full_data_df.assignee.fillna(value=json.dumps({}), inplace=True)\n",
    "full_data_df = json_normalize(data=json.loads(full_data_df.to_json(orient='records')),\n",
    "                              record_path=['assignee'],\n",
    "                              sep='_', \n",
    "                              meta=list(full_data_df.keys()), \n",
    "                              meta_prefix='',\n",
    "                              record_prefix='assignee_',\n",
    "                              errors='ignore')"
   ]
  },
  {
   "cell_type": "markdown",
   "metadata": {},
   "source": [
    "# <span style=\"color:ref\">DANGER ZONE</span>."
   ]
  },
  {
   "cell_type": "code",
   "execution_count": null,
   "metadata": {},
   "outputs": [],
   "source": [
    "# DANGER ZONE\n",
    "full_data_df.subtasks.fillna(value=json.dumps({}), inplace=True)\n",
    "full_subtasks_df = json_normalize(data=json.loads(full_data_df.to_json(orient='records')),\n",
    "                              record_path=['subtasks'],\n",
    "                              sep='_', \n",
    "                              meta=list(full_data_df.keys()), \n",
    "                              meta_prefix='',\n",
    "                              record_prefix='subtask_',\n",
    "                              errors='ignore')"
   ]
  },
  {
   "cell_type": "code",
   "execution_count": null,
   "metadata": {},
   "outputs": [],
   "source": [
    "full_data_df = full_data_df.drop(['followers', \n",
    "                                  'custom_fields', \n",
    "                                  'projects', \n",
    "                                  'parent', \n",
    "                                  'tags',\n",
    "                                  'assignee'], \n",
    "                                 axis=1)"
   ]
  },
  {
   "cell_type": "code",
   "execution_count": 87,
   "metadata": {},
   "outputs": [
    {
     "data": {
      "text/plain": [
       "25347"
      ]
     },
     "execution_count": 87,
     "metadata": {},
     "output_type": "execute_result"
    }
   ],
   "source": [
    "len(full_data_df)"
   ]
  },
  {
   "cell_type": "code",
   "execution_count": null,
   "metadata": {},
   "outputs": [],
   "source": []
  }
 ],
 "metadata": {
  "kernelspec": {
   "display_name": "Python 3",
   "language": "python",
   "name": "python3"
  },
  "language_info": {
   "codemirror_mode": {
    "name": "ipython",
    "version": 3
   },
   "file_extension": ".py",
   "mimetype": "text/x-python",
   "name": "python",
   "nbconvert_exporter": "python",
   "pygments_lexer": "ipython3",
   "version": "3.5.2"
  }
 },
 "nbformat": 4,
 "nbformat_minor": 2
}
