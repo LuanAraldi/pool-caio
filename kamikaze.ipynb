{
 "cells": [
  {
   "cell_type": "markdown",
   "metadata": {},
   "source": [
    "# KAMIKAZE Pool Report\n",
    "\n",
    "## Table of Contents\n",
    "\n",
    "1. [Assignees](#Assignees)\n",
    "    * [Since Creation](#Since-creation)\n",
    "    * [Per Week](#Per-week)\n",
    "2. [Tag Related](#Tag-related)\n",
    "    * [Since creation](#Since-creation)\n",
    "    * [Top 5 tags since creation](#Top-5-tags-since-creation)"
   ]
  },
  {
   "cell_type": "code",
   "execution_count": 47,
   "metadata": {},
   "outputs": [],
   "source": [
    "from urllib.request import Request, urlopen\n",
    "import json\n",
    "import pandas as pd\n",
    "import itertools"
   ]
  },
  {
   "cell_type": "code",
   "execution_count": 7,
   "metadata": {},
   "outputs": [],
   "source": [
    "COOKIE = 'lang_pref=en; _ga=GA1.2.1416690212.1542720478; _gaexp=GAX1.2.in5y_1ubT--YS9vbKucGEQ.17934.0!JF2DnSL3QxqJ9mYHYEsksA.17948.0; asana_orig_attr=%7B%22source%22%3A%22%22%2C%22query_string%22%3A%22%22%2C%22exit_page%22%3A%22%2F%22%2C%22landing_page%22%3A%22%2F%22%2C%22useragent%22%3A%22Mozilla%2F5.0%20(X11%3B%20Linux%20x86_64)%20AppleWebKit%2F537.36%20(KHTML%2C%20like%20Gecko)%20Chrome%2F69.0.3497.100%20Safari%2F537.36%22%2C%22timestamp%22%3A1542720479%2C%22convNum%22%3A184077389%7D; _mhbktsv=dbm; _gcl_au=1.1.705567108.1542720481; last_domain=2653227806782; p=0; optimizelyEndUserId=oeu1543865286842r0.936769239108139; optimizelySegments=%7B%22175086470%22%3A%22search%22%2C%22175122859%22%3A%22gc%22%2C%22175132201%22%3A%22false%22%2C%226118411233%22%3A%22none%22%7D; optimizelyBuckets=%7B%7D; asana_experiments={}; NaN_hash=a9c129b1PYDVOSJX1543865291117; xsrf_token=34fdc25ae5e8a5fcd227e080aa8e5cf7%3A1543930315132; user=421257675580403; auth_token=876ecb3d846735afda24e29f36075ecd; ticket=585a50e7019cdb6decb20b91f33aa790ac1a76a6a461fee40c6ac00d54f55e36; is_logged_in=true; luna_db_server_query_string=userId=421257675580403&shardId=2653227806782; server=prod-ws163.ec2|XAltM'"
   ]
  },
  {
   "cell_type": "code",
   "execution_count": 8,
   "metadata": {},
   "outputs": [],
   "source": [
    "def request_json(url):\n",
    "    request = Request(url)\n",
    "    request.add_header('Content-Type', 'application/json')\n",
    "    request.add_header('Cookie', COOKIE)\n",
    "\n",
    "    data = json.loads(urlopen(request).read().decode('utf-8'))\n",
    "    return data"
   ]
  },
  {
   "cell_type": "code",
   "execution_count": 9,
   "metadata": {},
   "outputs": [],
   "source": [
    "def get_assignees(base_dataframe):\n",
    "    assignee_list = list(json.loads(base_dataframe.assignee.to_json()).values())\n",
    "    assignee_df = pd.read_json(json.dumps(list(filter(None.__ne__, assignee_list))))\n",
    "    return assignee_df"
   ]
  },
  {
   "cell_type": "code",
   "execution_count": 11,
   "metadata": {},
   "outputs": [],
   "source": [
    "data = request_json('https://app.asana.com/api/1.0/projects/680563298779433/tasks?opt_pretty&opt_expand=(this%7Csubtasks%2B)')"
   ]
  },
  {
   "cell_type": "code",
   "execution_count": 12,
   "metadata": {},
   "outputs": [
    {
     "data": {
      "text/plain": [
       "{'assignee': None,\n",
       " 'assignee_status': 'upcoming',\n",
       " 'completed': False,\n",
       " 'completed_at': None,\n",
       " 'created_at': '2018-07-02T21:03:24.112Z',\n",
       " 'custom_fields': [{'enabled': True,\n",
       "   'gid': '207648931279186',\n",
       "   'id': 207648931279186,\n",
       "   'name': 'Estimate',\n",
       "   'number_value': None,\n",
       "   'precision': 0,\n",
       "   'resource_subtype': 'number',\n",
       "   'resource_type': 'custom_field',\n",
       "   'type': 'number'},\n",
       "  {'enabled': True,\n",
       "   'gid': '326509860716922',\n",
       "   'id': 326509860716922,\n",
       "   'name': 'Time spent',\n",
       "   'number_value': None,\n",
       "   'precision': 1,\n",
       "   'resource_subtype': 'number',\n",
       "   'resource_type': 'custom_field',\n",
       "   'type': 'number'},\n",
       "  {'enabled': True,\n",
       "   'enum_options': [{'color': 'pink',\n",
       "     'enabled': True,\n",
       "     'gid': '839796772462332',\n",
       "     'id': 839796772462332,\n",
       "     'name': 'Backlog',\n",
       "     'resource_type': 'enum_option'},\n",
       "    {'color': 'cool-gray',\n",
       "     'enabled': True,\n",
       "     'gid': '833194452969145',\n",
       "     'id': 833194452969145,\n",
       "     'name': 'Baixa',\n",
       "     'resource_type': 'enum_option'},\n",
       "    {'color': 'yellow',\n",
       "     'enabled': True,\n",
       "     'gid': '833194452969146',\n",
       "     'id': 833194452969146,\n",
       "     'name': 'Média',\n",
       "     'resource_type': 'enum_option'},\n",
       "    {'color': 'orange',\n",
       "     'enabled': True,\n",
       "     'gid': '833194452969147',\n",
       "     'id': 833194452969147,\n",
       "     'name': 'Alta',\n",
       "     'resource_type': 'enum_option'},\n",
       "    {'color': 'magenta',\n",
       "     'enabled': True,\n",
       "     'gid': '839796772462333',\n",
       "     'id': 839796772462333,\n",
       "     'name': 'P0',\n",
       "     'resource_type': 'enum_option'},\n",
       "    {'color': 'yellow-green',\n",
       "     'enabled': True,\n",
       "     'gid': '839796772462334',\n",
       "     'id': 839796772462334,\n",
       "     'name': 'OKR',\n",
       "     'resource_type': 'enum_option'},\n",
       "    {'color': 'aqua',\n",
       "     'enabled': True,\n",
       "     'gid': '879365023717481',\n",
       "     'id': 879365023717481,\n",
       "     'name': 'Deploy',\n",
       "     'resource_type': 'enum_option'}],\n",
       "   'enum_value': None,\n",
       "   'gid': '833194452969144',\n",
       "   'id': 833194452969144,\n",
       "   'name': 'PrioridadeINT',\n",
       "   'resource_subtype': 'enum',\n",
       "   'resource_type': 'custom_field',\n",
       "   'type': 'enum'},\n",
       "  {'enabled': True,\n",
       "   'gid': '833331487176046',\n",
       "   'id': 833331487176046,\n",
       "   'name': 'Motivo de Subida de Prioridade',\n",
       "   'resource_subtype': 'text',\n",
       "   'resource_type': 'custom_field',\n",
       "   'text_value': None,\n",
       "   'type': 'text'}],\n",
       " 'due_at': None,\n",
       " 'due_on': None,\n",
       " 'followers': [{'gid': '633968712880933',\n",
       "   'id': 633968712880933,\n",
       "   'name': 'Caio Amaral',\n",
       "   'resource_type': 'user'}],\n",
       " 'gid': '730452261753984',\n",
       " 'hearted': False,\n",
       " 'hearts': [],\n",
       " 'id': 730452261753984,\n",
       " 'liked': False,\n",
       " 'likes': [],\n",
       " 'memberships': [{'project': {'gid': '680563298779433',\n",
       "    'id': 680563298779433,\n",
       "    'name': 'FRONT KAMIKAZE - INT',\n",
       "    'resource_type': 'project'},\n",
       "   'section': {'gid': '730452261753984',\n",
       "    'id': 730452261753984,\n",
       "    'name': 'P0:',\n",
       "    'resource_type': 'section'}}],\n",
       " 'modified_at': '2018-07-02T21:03:25.700Z',\n",
       " 'name': 'P0:',\n",
       " 'notes': '',\n",
       " 'num_hearts': 0,\n",
       " 'num_likes': 0,\n",
       " 'parent': None,\n",
       " 'projects': [{'gid': '680563298779433',\n",
       "   'id': 680563298779433,\n",
       "   'name': 'FRONT KAMIKAZE - INT',\n",
       "   'resource_type': 'project'}],\n",
       " 'resource_subtype': 'section',\n",
       " 'resource_type': 'task',\n",
       " 'start_on': None,\n",
       " 'subtasks': [],\n",
       " 'tags': [],\n",
       " 'workspace': {'gid': '2653227806782',\n",
       "  'id': 2653227806782,\n",
       "  'name': 'Chaordic',\n",
       "  'resource_type': 'workspace'}}"
      ]
     },
     "execution_count": 12,
     "metadata": {},
     "output_type": "execute_result"
    }
   ],
   "source": [
    "data.get('data')[0]"
   ]
  },
  {
   "cell_type": "code",
   "execution_count": 13,
   "metadata": {},
   "outputs": [
    {
     "data": {
      "text/html": [
       "<div>\n",
       "<style scoped>\n",
       "    .dataframe tbody tr th:only-of-type {\n",
       "        vertical-align: middle;\n",
       "    }\n",
       "\n",
       "    .dataframe tbody tr th {\n",
       "        vertical-align: top;\n",
       "    }\n",
       "\n",
       "    .dataframe thead th {\n",
       "        text-align: right;\n",
       "    }\n",
       "</style>\n",
       "<table border=\"1\" class=\"dataframe\">\n",
       "  <thead>\n",
       "    <tr style=\"text-align: right;\">\n",
       "      <th></th>\n",
       "      <th>assignee</th>\n",
       "      <th>assignee_status</th>\n",
       "      <th>completed</th>\n",
       "      <th>completed_at</th>\n",
       "      <th>created_at</th>\n",
       "      <th>custom_fields</th>\n",
       "      <th>due_at</th>\n",
       "      <th>due_on</th>\n",
       "      <th>followers</th>\n",
       "      <th>gid</th>\n",
       "      <th>...</th>\n",
       "      <th>num_hearts</th>\n",
       "      <th>num_likes</th>\n",
       "      <th>parent</th>\n",
       "      <th>projects</th>\n",
       "      <th>resource_subtype</th>\n",
       "      <th>resource_type</th>\n",
       "      <th>start_on</th>\n",
       "      <th>subtasks</th>\n",
       "      <th>tags</th>\n",
       "      <th>workspace</th>\n",
       "    </tr>\n",
       "  </thead>\n",
       "  <tbody>\n",
       "    <tr>\n",
       "      <th>0</th>\n",
       "      <td>None</td>\n",
       "      <td>upcoming</td>\n",
       "      <td>False</td>\n",
       "      <td>NaT</td>\n",
       "      <td>2018-07-02 21:03:24.112</td>\n",
       "      <td>[{'id': 207648931279186, 'name': 'Estimate', '...</td>\n",
       "      <td>NaT</td>\n",
       "      <td>None</td>\n",
       "      <td>[{'gid': '633968712880933', 'resource_type': '...</td>\n",
       "      <td>730452261753984</td>\n",
       "      <td>...</td>\n",
       "      <td>0</td>\n",
       "      <td>0</td>\n",
       "      <td>None</td>\n",
       "      <td>[{'gid': '680563298779433', 'resource_type': '...</td>\n",
       "      <td>section</td>\n",
       "      <td>task</td>\n",
       "      <td>None</td>\n",
       "      <td>[]</td>\n",
       "      <td>[]</td>\n",
       "      <td>{'gid': '2653227806782', 'resource_type': 'wor...</td>\n",
       "    </tr>\n",
       "    <tr>\n",
       "      <th>1</th>\n",
       "      <td>{'gid': '421257675580403', 'resource_type': 'u...</td>\n",
       "      <td>inbox</td>\n",
       "      <td>True</td>\n",
       "      <td>2018-10-19 19:22:16.621</td>\n",
       "      <td>2018-10-17 12:37:55.024</td>\n",
       "      <td>[{'id': 207648931279186, 'name': 'Estimate', '...</td>\n",
       "      <td>NaT</td>\n",
       "      <td>None</td>\n",
       "      <td>[{'gid': '633968712880933', 'resource_type': '...</td>\n",
       "      <td>820637064816196</td>\n",
       "      <td>...</td>\n",
       "      <td>0</td>\n",
       "      <td>0</td>\n",
       "      <td>{'gid': '684409696069679', 'resource_type': 't...</td>\n",
       "      <td>[{'gid': '680563298779433', 'resource_type': '...</td>\n",
       "      <td>default_task</td>\n",
       "      <td>task</td>\n",
       "      <td>None</td>\n",
       "      <td>[{'completed_at': '2018-10-18T19:09:23.318Z', ...</td>\n",
       "      <td>[{'gid': '22125825955790', 'resource_type': 't...</td>\n",
       "      <td>{'gid': '2653227806782', 'resource_type': 'wor...</td>\n",
       "    </tr>\n",
       "    <tr>\n",
       "      <th>2</th>\n",
       "      <td>{'gid': '662420552271652', 'resource_type': 'u...</td>\n",
       "      <td>inbox</td>\n",
       "      <td>True</td>\n",
       "      <td>2018-10-26 22:25:27.792</td>\n",
       "      <td>2018-10-23 14:06:41.498</td>\n",
       "      <td>[{'id': 207648931279186, 'name': 'Estimate', '...</td>\n",
       "      <td>NaT</td>\n",
       "      <td>None</td>\n",
       "      <td>[{'gid': '633968712880933', 'resource_type': '...</td>\n",
       "      <td>878362291588530</td>\n",
       "      <td>...</td>\n",
       "      <td>0</td>\n",
       "      <td>0</td>\n",
       "      <td>{'gid': '684409696069679', 'resource_type': 't...</td>\n",
       "      <td>[{'gid': '680563298779433', 'resource_type': '...</td>\n",
       "      <td>default_task</td>\n",
       "      <td>task</td>\n",
       "      <td>None</td>\n",
       "      <td>[]</td>\n",
       "      <td>[{'gid': '22125825955790', 'resource_type': 't...</td>\n",
       "      <td>{'gid': '2653227806782', 'resource_type': 'wor...</td>\n",
       "    </tr>\n",
       "    <tr>\n",
       "      <th>3</th>\n",
       "      <td>{'gid': '633968712880933', 'resource_type': 'u...</td>\n",
       "      <td>inbox</td>\n",
       "      <td>True</td>\n",
       "      <td>2018-12-03 18:59:25.032</td>\n",
       "      <td>2018-11-29 19:36:45.448</td>\n",
       "      <td>[{'id': 207648931279186, 'name': 'Estimate', '...</td>\n",
       "      <td>NaT</td>\n",
       "      <td>None</td>\n",
       "      <td>[{'gid': '633968712880933', 'resource_type': '...</td>\n",
       "      <td>928216055716059</td>\n",
       "      <td>...</td>\n",
       "      <td>0</td>\n",
       "      <td>0</td>\n",
       "      <td>{'gid': '898807941571417', 'resource_type': 't...</td>\n",
       "      <td>[{'gid': '680563298779433', 'resource_type': '...</td>\n",
       "      <td>default_task</td>\n",
       "      <td>task</td>\n",
       "      <td>None</td>\n",
       "      <td>[]</td>\n",
       "      <td>[{'gid': '12438359298694', 'resource_type': 't...</td>\n",
       "      <td>{'gid': '2653227806782', 'resource_type': 'wor...</td>\n",
       "    </tr>\n",
       "    <tr>\n",
       "      <th>4</th>\n",
       "      <td>{'gid': '517130048139702', 'resource_type': 'u...</td>\n",
       "      <td>inbox</td>\n",
       "      <td>True</td>\n",
       "      <td>2018-10-25 20:37:43.776</td>\n",
       "      <td>2018-10-25 18:35:11.589</td>\n",
       "      <td>[{'id': 207648931279186, 'name': 'Estimate', '...</td>\n",
       "      <td>NaT</td>\n",
       "      <td>None</td>\n",
       "      <td>[{'gid': '517130048139702', 'resource_type': '...</td>\n",
       "      <td>883197588138604</td>\n",
       "      <td>...</td>\n",
       "      <td>0</td>\n",
       "      <td>0</td>\n",
       "      <td>{'gid': '684409696069679', 'resource_type': 't...</td>\n",
       "      <td>[{'gid': '680563298779433', 'resource_type': '...</td>\n",
       "      <td>default_task</td>\n",
       "      <td>task</td>\n",
       "      <td>None</td>\n",
       "      <td>[]</td>\n",
       "      <td>[{'gid': '22125825955790', 'resource_type': 't...</td>\n",
       "      <td>{'gid': '2653227806782', 'resource_type': 'wor...</td>\n",
       "    </tr>\n",
       "  </tbody>\n",
       "</table>\n",
       "<p>5 rows × 29 columns</p>\n",
       "</div>"
      ],
      "text/plain": [
       "                                            assignee assignee_status  \\\n",
       "0                                               None        upcoming   \n",
       "1  {'gid': '421257675580403', 'resource_type': 'u...           inbox   \n",
       "2  {'gid': '662420552271652', 'resource_type': 'u...           inbox   \n",
       "3  {'gid': '633968712880933', 'resource_type': 'u...           inbox   \n",
       "4  {'gid': '517130048139702', 'resource_type': 'u...           inbox   \n",
       "\n",
       "   completed            completed_at              created_at  \\\n",
       "0      False                     NaT 2018-07-02 21:03:24.112   \n",
       "1       True 2018-10-19 19:22:16.621 2018-10-17 12:37:55.024   \n",
       "2       True 2018-10-26 22:25:27.792 2018-10-23 14:06:41.498   \n",
       "3       True 2018-12-03 18:59:25.032 2018-11-29 19:36:45.448   \n",
       "4       True 2018-10-25 20:37:43.776 2018-10-25 18:35:11.589   \n",
       "\n",
       "                                       custom_fields due_at due_on  \\\n",
       "0  [{'id': 207648931279186, 'name': 'Estimate', '...    NaT   None   \n",
       "1  [{'id': 207648931279186, 'name': 'Estimate', '...    NaT   None   \n",
       "2  [{'id': 207648931279186, 'name': 'Estimate', '...    NaT   None   \n",
       "3  [{'id': 207648931279186, 'name': 'Estimate', '...    NaT   None   \n",
       "4  [{'id': 207648931279186, 'name': 'Estimate', '...    NaT   None   \n",
       "\n",
       "                                           followers              gid  \\\n",
       "0  [{'gid': '633968712880933', 'resource_type': '...  730452261753984   \n",
       "1  [{'gid': '633968712880933', 'resource_type': '...  820637064816196   \n",
       "2  [{'gid': '633968712880933', 'resource_type': '...  878362291588530   \n",
       "3  [{'gid': '633968712880933', 'resource_type': '...  928216055716059   \n",
       "4  [{'gid': '517130048139702', 'resource_type': '...  883197588138604   \n",
       "\n",
       "                         ...                          num_hearts num_likes  \\\n",
       "0                        ...                                   0         0   \n",
       "1                        ...                                   0         0   \n",
       "2                        ...                                   0         0   \n",
       "3                        ...                                   0         0   \n",
       "4                        ...                                   0         0   \n",
       "\n",
       "                                              parent  \\\n",
       "0                                               None   \n",
       "1  {'gid': '684409696069679', 'resource_type': 't...   \n",
       "2  {'gid': '684409696069679', 'resource_type': 't...   \n",
       "3  {'gid': '898807941571417', 'resource_type': 't...   \n",
       "4  {'gid': '684409696069679', 'resource_type': 't...   \n",
       "\n",
       "                                            projects resource_subtype  \\\n",
       "0  [{'gid': '680563298779433', 'resource_type': '...          section   \n",
       "1  [{'gid': '680563298779433', 'resource_type': '...     default_task   \n",
       "2  [{'gid': '680563298779433', 'resource_type': '...     default_task   \n",
       "3  [{'gid': '680563298779433', 'resource_type': '...     default_task   \n",
       "4  [{'gid': '680563298779433', 'resource_type': '...     default_task   \n",
       "\n",
       "  resource_type start_on                                           subtasks  \\\n",
       "0          task     None                                                 []   \n",
       "1          task     None  [{'completed_at': '2018-10-18T19:09:23.318Z', ...   \n",
       "2          task     None                                                 []   \n",
       "3          task     None                                                 []   \n",
       "4          task     None                                                 []   \n",
       "\n",
       "                                                tags  \\\n",
       "0                                                 []   \n",
       "1  [{'gid': '22125825955790', 'resource_type': 't...   \n",
       "2  [{'gid': '22125825955790', 'resource_type': 't...   \n",
       "3  [{'gid': '12438359298694', 'resource_type': 't...   \n",
       "4  [{'gid': '22125825955790', 'resource_type': 't...   \n",
       "\n",
       "                                           workspace  \n",
       "0  {'gid': '2653227806782', 'resource_type': 'wor...  \n",
       "1  {'gid': '2653227806782', 'resource_type': 'wor...  \n",
       "2  {'gid': '2653227806782', 'resource_type': 'wor...  \n",
       "3  {'gid': '2653227806782', 'resource_type': 'wor...  \n",
       "4  {'gid': '2653227806782', 'resource_type': 'wor...  \n",
       "\n",
       "[5 rows x 29 columns]"
      ]
     },
     "execution_count": 13,
     "metadata": {},
     "output_type": "execute_result"
    }
   ],
   "source": [
    "df = pd.read_json(json.dumps(data.get('data')))\n",
    "df.head()"
   ]
  },
  {
   "cell_type": "code",
   "execution_count": 14,
   "metadata": {},
   "outputs": [
    {
     "data": {
      "text/html": [
       "<div>\n",
       "<style scoped>\n",
       "    .dataframe tbody tr th:only-of-type {\n",
       "        vertical-align: middle;\n",
       "    }\n",
       "\n",
       "    .dataframe tbody tr th {\n",
       "        vertical-align: top;\n",
       "    }\n",
       "\n",
       "    .dataframe thead th {\n",
       "        text-align: right;\n",
       "    }\n",
       "</style>\n",
       "<table border=\"1\" class=\"dataframe\">\n",
       "  <thead>\n",
       "    <tr style=\"text-align: right;\">\n",
       "      <th></th>\n",
       "      <th>gid</th>\n",
       "      <th>id</th>\n",
       "      <th>num_hearts</th>\n",
       "      <th>num_likes</th>\n",
       "    </tr>\n",
       "  </thead>\n",
       "  <tbody>\n",
       "    <tr>\n",
       "      <th>count</th>\n",
       "      <td>5.090000e+02</td>\n",
       "      <td>5.090000e+02</td>\n",
       "      <td>509.000000</td>\n",
       "      <td>509.000000</td>\n",
       "    </tr>\n",
       "    <tr>\n",
       "      <th>mean</th>\n",
       "      <td>8.289023e+14</td>\n",
       "      <td>8.289023e+14</td>\n",
       "      <td>0.005894</td>\n",
       "      <td>0.005894</td>\n",
       "    </tr>\n",
       "    <tr>\n",
       "      <th>std</th>\n",
       "      <td>8.711462e+13</td>\n",
       "      <td>8.711462e+13</td>\n",
       "      <td>0.076621</td>\n",
       "      <td>0.076621</td>\n",
       "    </tr>\n",
       "    <tr>\n",
       "      <th>min</th>\n",
       "      <td>5.364914e+14</td>\n",
       "      <td>5.364914e+14</td>\n",
       "      <td>0.000000</td>\n",
       "      <td>0.000000</td>\n",
       "    </tr>\n",
       "    <tr>\n",
       "      <th>25%</th>\n",
       "      <td>7.702331e+14</td>\n",
       "      <td>7.702331e+14</td>\n",
       "      <td>0.000000</td>\n",
       "      <td>0.000000</td>\n",
       "    </tr>\n",
       "    <tr>\n",
       "      <th>50%</th>\n",
       "      <td>8.503038e+14</td>\n",
       "      <td>8.503038e+14</td>\n",
       "      <td>0.000000</td>\n",
       "      <td>0.000000</td>\n",
       "    </tr>\n",
       "    <tr>\n",
       "      <th>75%</th>\n",
       "      <td>9.072013e+14</td>\n",
       "      <td>9.072013e+14</td>\n",
       "      <td>0.000000</td>\n",
       "      <td>0.000000</td>\n",
       "    </tr>\n",
       "    <tr>\n",
       "      <th>max</th>\n",
       "      <td>9.374155e+14</td>\n",
       "      <td>9.374155e+14</td>\n",
       "      <td>1.000000</td>\n",
       "      <td>1.000000</td>\n",
       "    </tr>\n",
       "  </tbody>\n",
       "</table>\n",
       "</div>"
      ],
      "text/plain": [
       "                gid            id  num_hearts   num_likes\n",
       "count  5.090000e+02  5.090000e+02  509.000000  509.000000\n",
       "mean   8.289023e+14  8.289023e+14    0.005894    0.005894\n",
       "std    8.711462e+13  8.711462e+13    0.076621    0.076621\n",
       "min    5.364914e+14  5.364914e+14    0.000000    0.000000\n",
       "25%    7.702331e+14  7.702331e+14    0.000000    0.000000\n",
       "50%    8.503038e+14  8.503038e+14    0.000000    0.000000\n",
       "75%    9.072013e+14  9.072013e+14    0.000000    0.000000\n",
       "max    9.374155e+14  9.374155e+14    1.000000    1.000000"
      ]
     },
     "execution_count": 14,
     "metadata": {},
     "output_type": "execute_result"
    }
   ],
   "source": [
    "df.describe()"
   ]
  },
  {
   "cell_type": "code",
   "execution_count": 15,
   "metadata": {},
   "outputs": [],
   "source": [
    "week_completed_df = df[(df['completed_at'] > '2018-12-01') & (df['completed_at'] < '2019-08-01')]"
   ]
  },
  {
   "cell_type": "code",
   "execution_count": 16,
   "metadata": {},
   "outputs": [
    {
     "data": {
      "text/html": [
       "<div>\n",
       "<style scoped>\n",
       "    .dataframe tbody tr th:only-of-type {\n",
       "        vertical-align: middle;\n",
       "    }\n",
       "\n",
       "    .dataframe tbody tr th {\n",
       "        vertical-align: top;\n",
       "    }\n",
       "\n",
       "    .dataframe thead th {\n",
       "        text-align: right;\n",
       "    }\n",
       "</style>\n",
       "<table border=\"1\" class=\"dataframe\">\n",
       "  <thead>\n",
       "    <tr style=\"text-align: right;\">\n",
       "      <th></th>\n",
       "      <th>gid</th>\n",
       "      <th>id</th>\n",
       "      <th>name</th>\n",
       "      <th>resource_type</th>\n",
       "    </tr>\n",
       "  </thead>\n",
       "  <tbody>\n",
       "    <tr>\n",
       "      <th>0</th>\n",
       "      <td>633968712880933</td>\n",
       "      <td>633968712880933</td>\n",
       "      <td>Caio Amaral</td>\n",
       "      <td>user</td>\n",
       "    </tr>\n",
       "    <tr>\n",
       "      <th>1</th>\n",
       "      <td>421257675580403</td>\n",
       "      <td>421257675580403</td>\n",
       "      <td>Luan Araldi</td>\n",
       "      <td>user</td>\n",
       "    </tr>\n",
       "    <tr>\n",
       "      <th>2</th>\n",
       "      <td>421257675580403</td>\n",
       "      <td>421257675580403</td>\n",
       "      <td>Luan Araldi</td>\n",
       "      <td>user</td>\n",
       "    </tr>\n",
       "    <tr>\n",
       "      <th>3</th>\n",
       "      <td>547404614034527</td>\n",
       "      <td>547404614034527</td>\n",
       "      <td>Felipe Becker</td>\n",
       "      <td>user</td>\n",
       "    </tr>\n",
       "    <tr>\n",
       "      <th>4</th>\n",
       "      <td>448820047664335</td>\n",
       "      <td>448820047664335</td>\n",
       "      <td>giancarlo.freitas</td>\n",
       "      <td>user</td>\n",
       "    </tr>\n",
       "  </tbody>\n",
       "</table>\n",
       "</div>"
      ],
      "text/plain": [
       "               gid               id               name resource_type\n",
       "0  633968712880933  633968712880933        Caio Amaral          user\n",
       "1  421257675580403  421257675580403        Luan Araldi          user\n",
       "2  421257675580403  421257675580403        Luan Araldi          user\n",
       "3  547404614034527  547404614034527      Felipe Becker          user\n",
       "4  448820047664335  448820047664335  giancarlo.freitas          user"
      ]
     },
     "execution_count": 16,
     "metadata": {},
     "output_type": "execute_result"
    }
   ],
   "source": [
    "assignee_df = get_assignees(df)\n",
    "assignee_df.head()"
   ]
  },
  {
   "cell_type": "markdown",
   "metadata": {},
   "source": [
    "# 1 - Assignees"
   ]
  },
  {
   "cell_type": "markdown",
   "metadata": {},
   "source": [
    "## 1.1 Since creation"
   ]
  },
  {
   "cell_type": "code",
   "execution_count": 17,
   "metadata": {},
   "outputs": [
    {
     "data": {
      "text/plain": [
       "Jhonatan Tomimatsu                 83\n",
       "Caio Amaral                        58\n",
       "Luan Araldi                        46\n",
       "Denise Giubilei                    42\n",
       "Eduardo                            39\n",
       "Karen Costa                        34\n",
       "Anderson Silva                     28\n",
       "Gleice Souza                       25\n",
       "Felipe Becker                      18\n",
       "Guilherme Pries                    13\n",
       "Carlos Eduardo Libardo              9\n",
       "raphael.ribeiro                     6\n",
       "William Silva Godoy                 6\n",
       "Cássio Couto                        5\n",
       "Weslley Azevedo                     5\n",
       "Tácio Medeiros                      3\n",
       "Heron Monteiro                      3\n",
       "Ivanildo de Castro                  3\n",
       "Marcos Siqueira Junior              2\n",
       "Cássio Böck                         2\n",
       "juliana                             2\n",
       "Victor Oliveira                     2\n",
       "giancarlo.freitas                   2\n",
       "Felipe Bremer de Moraes             2\n",
       "Marta                               2\n",
       "Tyller Jor'El                       2\n",
       "janiel.santos                       1\n",
       "Andrew Pacifico                     1\n",
       "Robinho                             1\n",
       "Edson Souza                         1\n",
       "Nicolas                             1\n",
       "Marco Túlio R Braga                 1\n",
       "Andrews Lince                       1\n",
       "Luiz Oliveira                       1\n",
       "bruno.souza@chaordicsystems.com     1\n",
       "Renan Oliveira                      1\n",
       "fabiomoreira                        1\n",
       "Marx Guimaraes                      1\n",
       "Leroy Medeiros                      1\n",
       "Name: name, dtype: int64"
      ]
     },
     "execution_count": 17,
     "metadata": {},
     "output_type": "execute_result"
    }
   ],
   "source": [
    "assignee_df['name'].value_counts()"
   ]
  },
  {
   "cell_type": "code",
   "execution_count": 18,
   "metadata": {},
   "outputs": [
    {
     "data": {
      "text/plain": [
       "<matplotlib.axes._subplots.AxesSubplot at 0x7f1454932860>"
      ]
     },
     "execution_count": 18,
     "metadata": {},
     "output_type": "execute_result"
    }
   ],
   "source": [
    "assignee_df['name'].value_counts().plot(kind='barh', figsize=(10, 15))"
   ]
  },
  {
   "cell_type": "markdown",
   "metadata": {},
   "source": [
    "## 1.2 Per week"
   ]
  },
  {
   "cell_type": "code",
   "execution_count": 19,
   "metadata": {},
   "outputs": [
    {
     "data": {
      "text/html": [
       "<div>\n",
       "<style scoped>\n",
       "    .dataframe tbody tr th:only-of-type {\n",
       "        vertical-align: middle;\n",
       "    }\n",
       "\n",
       "    .dataframe tbody tr th {\n",
       "        vertical-align: top;\n",
       "    }\n",
       "\n",
       "    .dataframe thead th {\n",
       "        text-align: right;\n",
       "    }\n",
       "</style>\n",
       "<table border=\"1\" class=\"dataframe\">\n",
       "  <thead>\n",
       "    <tr style=\"text-align: right;\">\n",
       "      <th></th>\n",
       "      <th>gid</th>\n",
       "      <th>id</th>\n",
       "      <th>name</th>\n",
       "      <th>resource_type</th>\n",
       "    </tr>\n",
       "  </thead>\n",
       "  <tbody>\n",
       "    <tr>\n",
       "      <th>0</th>\n",
       "      <td>354706923192815</td>\n",
       "      <td>354706923192815</td>\n",
       "      <td>Denise Giubilei</td>\n",
       "      <td>user</td>\n",
       "    </tr>\n",
       "    <tr>\n",
       "      <th>1</th>\n",
       "      <td>354706923192815</td>\n",
       "      <td>354706923192815</td>\n",
       "      <td>Denise Giubilei</td>\n",
       "      <td>user</td>\n",
       "    </tr>\n",
       "    <tr>\n",
       "      <th>2</th>\n",
       "      <td>354706923192815</td>\n",
       "      <td>354706923192815</td>\n",
       "      <td>Denise Giubilei</td>\n",
       "      <td>user</td>\n",
       "    </tr>\n",
       "    <tr>\n",
       "      <th>3</th>\n",
       "      <td>208319495637564</td>\n",
       "      <td>208319495637564</td>\n",
       "      <td>Eduardo</td>\n",
       "      <td>user</td>\n",
       "    </tr>\n",
       "    <tr>\n",
       "      <th>4</th>\n",
       "      <td>771731756164271</td>\n",
       "      <td>771731756164271</td>\n",
       "      <td>Anderson Silva</td>\n",
       "      <td>user</td>\n",
       "    </tr>\n",
       "  </tbody>\n",
       "</table>\n",
       "</div>"
      ],
      "text/plain": [
       "               gid               id             name resource_type\n",
       "0  354706923192815  354706923192815  Denise Giubilei          user\n",
       "1  354706923192815  354706923192815  Denise Giubilei          user\n",
       "2  354706923192815  354706923192815  Denise Giubilei          user\n",
       "3  208319495637564  208319495637564          Eduardo          user\n",
       "4  771731756164271  771731756164271   Anderson Silva          user"
      ]
     },
     "execution_count": 19,
     "metadata": {},
     "output_type": "execute_result"
    }
   ],
   "source": [
    "assignees_week_completed_df = get_assignees(week_completed_df)\n",
    "assignees_week_completed_df.head()"
   ]
  },
  {
   "cell_type": "code",
   "execution_count": 20,
   "metadata": {},
   "outputs": [
    {
     "data": {
      "text/plain": [
       "Anderson Silva        6\n",
       "Caio Amaral           6\n",
       "Jhonatan Tomimatsu    4\n",
       "Denise Giubilei       4\n",
       "Eduardo               3\n",
       "Gleice Souza          3\n",
       "Luan Araldi           1\n",
       "Karen Costa           1\n",
       "Name: name, dtype: int64"
      ]
     },
     "execution_count": 20,
     "metadata": {},
     "output_type": "execute_result"
    }
   ],
   "source": [
    "assignees_week_completed_df['name'].value_counts()"
   ]
  },
  {
   "cell_type": "code",
   "execution_count": 21,
   "metadata": {},
   "outputs": [
    {
     "data": {
      "text/plain": [
       "<matplotlib.axes._subplots.AxesSubplot at 0x7f144fece160>"
      ]
     },
     "execution_count": 21,
     "metadata": {},
     "output_type": "execute_result"
    },
    {
     "data": {
      "image/png": "[encoded data removed]",
      "text/plain": [
       "<Figure size 864x360 with 1 Axes>"
      ]
     },
     "metadata": {},
     "output_type": "display_data"
    }
   ],
   "source": [
    "assignees_week_completed_df['name'].value_counts().plot(kind='barh', figsize=(12, 5))"
   ]
  },
  {
   "cell_type": "markdown",
   "metadata": {},
   "source": [
    "# 2 Tag Related"
   ]
  },
  {
   "cell_type": "code",
   "execution_count": 71,
   "metadata": {},
   "outputs": [],
   "source": [
    "def get_tags(base_dataframe):\n",
    "    tags_list = list(json.loads(base_dataframe.tags.to_json()).values())\n",
    "    tags_df = pd.read_json(json.dumps(list(filter(None.__ne__, list(itertools.chain(*tags_list))))))\n",
    "    return tags_df"
   ]
  },
  {
   "cell_type": "markdown",
   "metadata": {},
   "source": [
    "## 2.1 Since creation"
   ]
  },
  {
   "cell_type": "code",
   "execution_count": 79,
   "metadata": {},
   "outputs": [
    {
     "data": {
      "text/plain": [
       "rework                     133\n",
       "CC:OnSite                  122\n",
       "CC:Busca                   120\n",
       "CC:Base                    118\n",
       "CC:Mail                     78\n",
       "CC:API                       7\n",
       "VTEX                         5\n",
       "CC:ColabINT                  4\n",
       "Engage: NotProblem           4\n",
       "DS: P1                       3\n",
       "DS: Sprint 10 (H2-2018)      3\n",
       "DS: Unplanned                3\n",
       "CC:Banners                   2\n",
       "DS: Mail                     2\n",
       "rework_Cliente               2\n",
       "DS: Sprint 4 (H2-2018)       1\n",
       "DS: P2                       1\n",
       "Engage: P0                   1\n",
       "CC:Percycle                  1\n",
       "atraso                       1\n",
       "CC:OutOfScope                1\n",
       "DS: Vitrines                 1\n",
       "CC:Problem                   1\n",
       "Name: name, dtype: int64"
      ]
     },
     "execution_count": 79,
     "metadata": {},
     "output_type": "execute_result"
    }
   ],
   "source": [
    "tags_df = get_tags(df)\n",
    "tags_df['name'].value_counts().iloc[1:]"
   ]
  },
  {
   "cell_type": "code",
   "execution_count": 83,
   "metadata": {},
   "outputs": [
    {
     "data": {
      "text/plain": [
       "<matplotlib.axes._subplots.AxesSubplot at 0x7f144e289080>"
      ]
     },
     "execution_count": 83,
     "metadata": {},
     "output_type": "execute_result"
    },
    {
     "data": {
      "image/png": "[encoded data removed]",
      "text/plain": [
       "<Figure size 1080x1080 with 1 Axes>"
      ]
     },
     "metadata": {},
     "output_type": "display_data"
    }
   ],
   "source": [
    "tags_df['name'].value_counts().iloc[1:].plot(kind='pie', figsize=(15, 15))"
   ]
  },
  {
   "cell_type": "markdown",
   "metadata": {},
   "source": [
    "## 2Top 5 tags since creation"
   ]
  },
  {
   "cell_type": "code",
   "execution_count": 86,
   "metadata": {},
   "outputs": [
    {
     "data": {
      "text/plain": [
       "rework       133\n",
       "CC:OnSite    122\n",
       "CC:Busca     120\n",
       "CC:Base      118\n",
       "CC:Mail       78\n",
       "CC:API         7\n",
       "Name: name, dtype: int64"
      ]
     },
     "execution_count": 86,
     "metadata": {},
     "output_type": "execute_result"
    }
   ],
   "source": [
    "tags_df['name'].value_counts().iloc[1:].nlargest(6)"
   ]
  },
  {
   "cell_type": "code",
   "execution_count": 87,
   "metadata": {},
   "outputs": [
    {
     "data": {
      "text/plain": [
       "<matplotlib.axes._subplots.AxesSubplot at 0x7f144e3d35f8>"
      ]
     },
     "execution_count": 87,
     "metadata": {},
     "output_type": "execute_result"
    },
    {
     "data": {
      "image/png": "[encoded data removed]",
      "text/plain": [
       "<Figure size 1080x1080 with 1 Axes>"
      ]
     },
     "metadata": {},
     "output_type": "display_data"
    }
   ],
   "source": [
    "tags_df['name'].value_counts().iloc[1:].nlargest(6).plot(kind='pie', figsize=(15, 15))"
   ]
  },
  {
   "cell_type": "code",
   "execution_count": null,
   "metadata": {},
   "outputs": [],
   "source": []
  }
 ],
 "metadata": {
  "kernelspec": {
   "display_name": "Python 3",
   "language": "python",
   "name": "python3"
  },
  "language_info": {
   "codemirror_mode": {
    "name": "ipython",
    "version": 3
   },
   "file_extension": ".py",
   "mimetype": "text/x-python",
   "name": "python",
   "nbconvert_exporter": "python",
   "pygments_lexer": "ipython3",
   "version": "3.5.2"
  }
 },
 "nbformat": 4,
 "nbformat_minor": 2
}
